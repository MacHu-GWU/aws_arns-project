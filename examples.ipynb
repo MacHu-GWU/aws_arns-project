{
 "cells": [
  {
   "cell_type": "markdown",
   "metadata": {},
   "source": [
    "# ``aws_arns`` Examples\n",
    "\n",
    "## The ``Arn`` class.\n",
    "\n",
    "The ``Arn`` is the Amazon Resource Names (ARNs) data model, is a unique identifier for AWS resources.\n",
    "\n",
    "ARN format:\n",
    "\n",
    "- format: ``arn:${partition}:${service}:${region}:${account-id}:${resource-id}``\n",
    "    - example: ``arn:aws:sqs:us-east-1:111122223333:my-queue``\n",
    "- format: ``arn:${partition}:${service}:${region}:${account-id}:${resource-type}${sep}${resource-id}``\n",
    "    - example sep = \"/\": ``arn:aws:iam::111122223333:role/aws-service-role/batch.amazonaws.com/AWSServiceRoleForBatch``\n",
    "- format: ``arn:${partition}:${service}:${region}:${account-id}:${resource-type}${sep}${resource-id}``\n",
    "    - example sep = \":\": ``arn:aws:batch:us-east-1:111122223333:job-definition/my-job-def:1``\n",
    "\n",
    "Reference:\n",
    "\n",
    "- Amazon Resource Names (ARNs): https://docs.aws.amazon.com/general/latest/gr/aws-arns-and-namespaces.html"
   ]
  },
  {
   "cell_type": "code",
   "execution_count": 11,
   "metadata": {
    "collapsed": false,
    "jupyter": {
     "outputs_hidden": false
    },
    "tags": [],
    "ExecuteTime": {
     "start_time": "2023-09-21T09:53:58.480877Z",
     "end_time": "2023-09-21T09:53:58.482602Z"
    }
   },
   "outputs": [],
   "source": [
    "import aws_arns.api as aws_arns\n",
    "from rich import print as rprint"
   ]
  },
  {
   "cell_type": "code",
   "execution_count": 12,
   "metadata": {
    "collapsed": false,
    "jupyter": {
     "outputs_hidden": false
    },
    "tags": [],
    "ExecuteTime": {
     "start_time": "2023-09-21T09:53:58.652224Z",
     "end_time": "2023-09-21T09:53:58.655367Z"
    }
   },
   "outputs": [
    {
     "data": {
      "text/plain": "\u001B[1;35mArn\u001B[0m\u001B[1m(\u001B[0m\n    \u001B[33mpartition\u001B[0m=\u001B[32m'aws'\u001B[0m,\n    \u001B[33mservice\u001B[0m=\u001B[32m'iam'\u001B[0m,\n    \u001B[33mregion\u001B[0m=\u001B[3;35mNone\u001B[0m,\n    \u001B[33maccount_id\u001B[0m=\u001B[32m'111122223333'\u001B[0m,\n    \u001B[33mresource_type\u001B[0m=\u001B[32m'role'\u001B[0m,\n    \u001B[33msep\u001B[0m=\u001B[32m'/'\u001B[0m,\n    \u001B[33mresource_id\u001B[0m=\u001B[32m'aws-service-role/redshift.amazonaws.com/AWSServiceRoleForRedshift'\u001B[0m\n\u001B[1m)\u001B[0m\n",
      "text/html": "<pre style=\"white-space:pre;overflow-x:auto;line-height:normal;font-family:Menlo,'DejaVu Sans Mono',consolas,'Courier New',monospace\"><span style=\"color: #800080; text-decoration-color: #800080; font-weight: bold\">Arn</span><span style=\"font-weight: bold\">(</span>\n    <span style=\"color: #808000; text-decoration-color: #808000\">partition</span>=<span style=\"color: #008000; text-decoration-color: #008000\">'aws'</span>,\n    <span style=\"color: #808000; text-decoration-color: #808000\">service</span>=<span style=\"color: #008000; text-decoration-color: #008000\">'iam'</span>,\n    <span style=\"color: #808000; text-decoration-color: #808000\">region</span>=<span style=\"color: #800080; text-decoration-color: #800080; font-style: italic\">None</span>,\n    <span style=\"color: #808000; text-decoration-color: #808000\">account_id</span>=<span style=\"color: #008000; text-decoration-color: #008000\">'111122223333'</span>,\n    <span style=\"color: #808000; text-decoration-color: #808000\">resource_type</span>=<span style=\"color: #008000; text-decoration-color: #008000\">'role'</span>,\n    <span style=\"color: #808000; text-decoration-color: #808000\">sep</span>=<span style=\"color: #008000; text-decoration-color: #008000\">'/'</span>,\n    <span style=\"color: #808000; text-decoration-color: #808000\">resource_id</span>=<span style=\"color: #008000; text-decoration-color: #008000\">'aws-service-role/redshift.amazonaws.com/AWSServiceRoleForRedshift'</span>\n<span style=\"font-weight: bold\">)</span>\n</pre>\n"
     },
     "metadata": {},
     "output_type": "display_data"
    }
   ],
   "source": [
    "# create object from ARN\n",
    "arn = aws_arns.Arn.from_arn(\"arn:aws:iam::111122223333:role/aws-service-role/redshift.amazonaws.com/AWSServiceRoleForRedshift\")\n",
    "# access ARN attributes\n",
    "rprint(arn)"
   ]
  },
  {
   "cell_type": "code",
   "execution_count": 13,
   "metadata": {
    "collapsed": false,
    "jupyter": {
     "outputs_hidden": false
    },
    "tags": [],
    "ExecuteTime": {
     "start_time": "2023-09-21T09:53:58.783552Z",
     "end_time": "2023-09-21T09:53:58.787464Z"
    }
   },
   "outputs": [
    {
     "data": {
      "text/plain": "'arn:aws:iam::111122223333:role/aws-service-role/redshift.amazonaws.com/AWSServiceRoleForRedshift'"
     },
     "execution_count": 13,
     "metadata": {},
     "output_type": "execute_result"
    }
   ],
   "source": [
    "# convert object to ARN\n",
    "arn.to_arn()"
   ]
  },
  {
   "cell_type": "code",
   "execution_count": 14,
   "metadata": {
    "collapsed": false,
    "jupyter": {
     "outputs_hidden": false
    },
    "ExecuteTime": {
     "start_time": "2023-09-21T09:53:58.951490Z",
     "end_time": "2023-09-21T09:53:58.953245Z"
    }
   },
   "outputs": [
    {
     "data": {
      "text/plain": "\u001B[1;35mArn\u001B[0m\u001B[1m(\u001B[0m\n    \u001B[33mpartition\u001B[0m=\u001B[32m'aws'\u001B[0m,\n    \u001B[33mservice\u001B[0m=\u001B[32m's3'\u001B[0m,\n    \u001B[33mregion\u001B[0m=\u001B[3;35mNone\u001B[0m,\n    \u001B[33maccount_id\u001B[0m=\u001B[3;35mNone\u001B[0m,\n    \u001B[33mresource_type\u001B[0m=\u001B[3;35mNone\u001B[0m,\n    \u001B[33msep\u001B[0m=\u001B[3;35mNone\u001B[0m,\n    \u001B[33mresource_id\u001B[0m=\u001B[32m'my-bucket/cloudformation/upload/10f3db7bcfa62c69e5a71fef595fac84.json'\u001B[0m\n\u001B[1m)\u001B[0m\n",
      "text/html": "<pre style=\"white-space:pre;overflow-x:auto;line-height:normal;font-family:Menlo,'DejaVu Sans Mono',consolas,'Courier New',monospace\"><span style=\"color: #800080; text-decoration-color: #800080; font-weight: bold\">Arn</span><span style=\"font-weight: bold\">(</span>\n    <span style=\"color: #808000; text-decoration-color: #808000\">partition</span>=<span style=\"color: #008000; text-decoration-color: #008000\">'aws'</span>,\n    <span style=\"color: #808000; text-decoration-color: #808000\">service</span>=<span style=\"color: #008000; text-decoration-color: #008000\">'s3'</span>,\n    <span style=\"color: #808000; text-decoration-color: #808000\">region</span>=<span style=\"color: #800080; text-decoration-color: #800080; font-style: italic\">None</span>,\n    <span style=\"color: #808000; text-decoration-color: #808000\">account_id</span>=<span style=\"color: #800080; text-decoration-color: #800080; font-style: italic\">None</span>,\n    <span style=\"color: #808000; text-decoration-color: #808000\">resource_type</span>=<span style=\"color: #800080; text-decoration-color: #800080; font-style: italic\">None</span>,\n    <span style=\"color: #808000; text-decoration-color: #808000\">sep</span>=<span style=\"color: #800080; text-decoration-color: #800080; font-style: italic\">None</span>,\n    <span style=\"color: #808000; text-decoration-color: #808000\">resource_id</span>=<span style=\"color: #008000; text-decoration-color: #008000\">'my-bucket/cloudformation/upload/10f3db7bcfa62c69e5a71fef595fac84.json'</span>\n<span style=\"font-weight: bold\">)</span>\n</pre>\n"
     },
     "metadata": {},
     "output_type": "display_data"
    }
   ],
   "source": [
    "# a more complex example\n",
    "arn = aws_arns.Arn.from_arn(\"arn:aws:s3:::my-bucket/cloudformation/upload/10f3db7bcfa62c69e5a71fef595fac84.json\")\n",
    "rprint(arn)"
   ]
  },
  {
   "cell_type": "code",
   "execution_count": 15,
   "metadata": {
    "tags": [],
    "ExecuteTime": {
     "start_time": "2023-09-21T09:53:59.080333Z",
     "end_time": "2023-09-21T09:53:59.086254Z"
    }
   },
   "outputs": [
    {
     "data": {
      "text/plain": "'arn:aws:s3:::my-bucket/cloudformation/upload/10f3db7bcfa62c69e5a71fef595fac84.json'"
     },
     "execution_count": 15,
     "metadata": {},
     "output_type": "execute_result"
    }
   ],
   "source": [
    "arn.to_arn()"
   ]
  },
  {
   "cell_type": "markdown",
   "source": [
    "## The curated AWS Resource Object\n",
    "\n",
    "``aws_arns`` provides a more human friendly api for lots of common AWS resources. You can find the full list at https://github.com/MacHu-GWU/aws_arns-project/blob/main/aws_arns/resource.py\n"
   ],
   "metadata": {
    "collapsed": false
   }
  },
  {
   "cell_type": "code",
   "execution_count": 16,
   "outputs": [
    {
     "name": "stdout",
     "output_type": "stream",
     "text": [
      "stack_name: myteststack\n",
      "short_id: 644df8e0-0dff-11e3-8e2f-5088487c4896\n",
      "stack_fullname: myteststack/644df8e0-0dff-11e3-8e2f-5088487c4896\n",
      "stack_id: arn:aws:cloudformation:us-east-2:123456789012:stack/myteststack/644df8e0-0dff-11e3-8e2f-5088487c4896\n"
     ]
    },
    {
     "data": {
      "text/plain": "\u001B[1;35mCloudFormationStack\u001B[0m\u001B[1m(\u001B[0m\n    \u001B[33mpartition\u001B[0m=\u001B[32m'aws'\u001B[0m,\n    \u001B[33mservice\u001B[0m=\u001B[32m'cloudformation'\u001B[0m,\n    \u001B[33mregion\u001B[0m=\u001B[32m'us-east-2'\u001B[0m,\n    \u001B[33maccount_id\u001B[0m=\u001B[32m'123456789012'\u001B[0m,\n    \u001B[33mresource_type\u001B[0m=\u001B[32m'stack'\u001B[0m,\n    \u001B[33msep\u001B[0m=\u001B[32m'/'\u001B[0m,\n    \u001B[33mresource_id\u001B[0m=\u001B[32m'myteststack/644df8e0-0dff-11e3-8e2f-5088487c4896'\u001B[0m\n\u001B[1m)\u001B[0m\n",
      "text/html": "<pre style=\"white-space:pre;overflow-x:auto;line-height:normal;font-family:Menlo,'DejaVu Sans Mono',consolas,'Courier New',monospace\"><span style=\"color: #800080; text-decoration-color: #800080; font-weight: bold\">CloudFormationStack</span><span style=\"font-weight: bold\">(</span>\n    <span style=\"color: #808000; text-decoration-color: #808000\">partition</span>=<span style=\"color: #008000; text-decoration-color: #008000\">'aws'</span>,\n    <span style=\"color: #808000; text-decoration-color: #808000\">service</span>=<span style=\"color: #008000; text-decoration-color: #008000\">'cloudformation'</span>,\n    <span style=\"color: #808000; text-decoration-color: #808000\">region</span>=<span style=\"color: #008000; text-decoration-color: #008000\">'us-east-2'</span>,\n    <span style=\"color: #808000; text-decoration-color: #808000\">account_id</span>=<span style=\"color: #008000; text-decoration-color: #008000\">'123456789012'</span>,\n    <span style=\"color: #808000; text-decoration-color: #808000\">resource_type</span>=<span style=\"color: #008000; text-decoration-color: #008000\">'stack'</span>,\n    <span style=\"color: #808000; text-decoration-color: #808000\">sep</span>=<span style=\"color: #008000; text-decoration-color: #008000\">'/'</span>,\n    <span style=\"color: #808000; text-decoration-color: #808000\">resource_id</span>=<span style=\"color: #008000; text-decoration-color: #008000\">'myteststack/644df8e0-0dff-11e3-8e2f-5088487c4896'</span>\n<span style=\"font-weight: bold\">)</span>\n</pre>\n"
     },
     "metadata": {},
     "output_type": "display_data"
    }
   ],
   "source": [
    "cf_stack = aws_arns.res.CloudFormationStack.from_arn(\"arn:aws:cloudformation:us-east-2:123456789012:stack/myteststack/644df8e0-0dff-11e3-8e2f-5088487c4896\")\n",
    "print(f\"stack_name: {cf_stack.stack_name}\")\n",
    "print(f\"short_id: {cf_stack.short_id}\")\n",
    "print(f\"stack_fullname: {cf_stack.stack_fullname}\")\n",
    "print(f\"stack_id: {cf_stack.stack_id}\")\n",
    "rprint(cf_stack)"
   ],
   "metadata": {
    "collapsed": false,
    "ExecuteTime": {
     "start_time": "2023-09-21T09:53:59.400313Z",
     "end_time": "2023-09-21T09:53:59.402614Z"
    }
   }
  },
  {
   "cell_type": "code",
   "execution_count": 17,
   "outputs": [
    {
     "data": {
      "text/plain": "\u001B[1;35mCloudFormationStack\u001B[0m\u001B[1m(\u001B[0m\n    \u001B[33mpartition\u001B[0m=\u001B[32m'aws'\u001B[0m,\n    \u001B[33mservice\u001B[0m=\u001B[32m'cloudformation'\u001B[0m,\n    \u001B[33mregion\u001B[0m=\u001B[32m'us-east-1'\u001B[0m,\n    \u001B[33maccount_id\u001B[0m=\u001B[32m'123456789012'\u001B[0m,\n    \u001B[33mresource_type\u001B[0m=\u001B[32m'stack'\u001B[0m,\n    \u001B[33msep\u001B[0m=\u001B[32m'/'\u001B[0m,\n    \u001B[33mresource_id\u001B[0m=\u001B[32m'myteststack/644df8e0-0dff-11e3-8e2f-5088487c4896'\u001B[0m\n\u001B[1m)\u001B[0m\n",
      "text/html": "<pre style=\"white-space:pre;overflow-x:auto;line-height:normal;font-family:Menlo,'DejaVu Sans Mono',consolas,'Courier New',monospace\"><span style=\"color: #800080; text-decoration-color: #800080; font-weight: bold\">CloudFormationStack</span><span style=\"font-weight: bold\">(</span>\n    <span style=\"color: #808000; text-decoration-color: #808000\">partition</span>=<span style=\"color: #008000; text-decoration-color: #008000\">'aws'</span>,\n    <span style=\"color: #808000; text-decoration-color: #808000\">service</span>=<span style=\"color: #008000; text-decoration-color: #008000\">'cloudformation'</span>,\n    <span style=\"color: #808000; text-decoration-color: #808000\">region</span>=<span style=\"color: #008000; text-decoration-color: #008000\">'us-east-1'</span>,\n    <span style=\"color: #808000; text-decoration-color: #808000\">account_id</span>=<span style=\"color: #008000; text-decoration-color: #008000\">'123456789012'</span>,\n    <span style=\"color: #808000; text-decoration-color: #808000\">resource_type</span>=<span style=\"color: #008000; text-decoration-color: #008000\">'stack'</span>,\n    <span style=\"color: #808000; text-decoration-color: #808000\">sep</span>=<span style=\"color: #008000; text-decoration-color: #008000\">'/'</span>,\n    <span style=\"color: #808000; text-decoration-color: #808000\">resource_id</span>=<span style=\"color: #008000; text-decoration-color: #008000\">'myteststack/644df8e0-0dff-11e3-8e2f-5088487c4896'</span>\n<span style=\"font-weight: bold\">)</span>\n</pre>\n"
     },
     "metadata": {},
     "output_type": "display_data"
    }
   ],
   "source": [
    "cf_stack = aws_arns.res.CloudFormationStack.new(\n",
    "    aws_account_id=\"123456789012\",\n",
    "    aws_region=\"us-east-1\",\n",
    "    stack_name=\"myteststack\",\n",
    "    short_id=\"644df8e0-0dff-11e3-8e2f-5088487c4896\",\n",
    ")\n",
    "rprint(cf_stack)"
   ],
   "metadata": {
    "collapsed": false,
    "ExecuteTime": {
     "start_time": "2023-09-21T09:53:59.823118Z",
     "end_time": "2023-09-21T09:53:59.825813Z"
    }
   }
  },
  {
   "cell_type": "code",
   "execution_count": 18,
   "outputs": [
    {
     "data": {
      "text/plain": "'arn:aws:ssm:us-east-1:123456789012:parameter/path/to/my_parameter'"
     },
     "execution_count": 18,
     "metadata": {},
     "output_type": "execute_result"
    }
   ],
   "source": [
    "ssm_parameter = aws_arns.res.SSMParameter.new(\n",
    "    aws_account_id=\"123456789012\",\n",
    "    aws_region=\"us-east-1\",\n",
    "    name=\"/path/to/my_parameter\",\n",
    ")\n",
    "ssm_parameter.to_arn()"
   ],
   "metadata": {
    "collapsed": false,
    "ExecuteTime": {
     "start_time": "2023-09-21T09:54:00.264671Z",
     "end_time": "2023-09-21T09:54:00.267247Z"
    }
   }
  },
  {
   "cell_type": "code",
   "execution_count": 19,
   "outputs": [
    {
     "data": {
      "text/plain": "'arn:aws:lambda:us-east-1:123456789012:function:my_func:3'"
     },
     "execution_count": 19,
     "metadata": {},
     "output_type": "execute_result"
    }
   ],
   "source": [
    "lambda_function = aws_arns.res.LambdaFunction.new(\n",
    "    aws_account_id=\"123456789012\",\n",
    "    aws_region=\"us-east-1\",\n",
    "    name=\"my_func\",\n",
    "    version=3,\n",
    ")\n",
    "lambda_function.to_arn()"
   ],
   "metadata": {
    "collapsed": false,
    "ExecuteTime": {
     "start_time": "2023-09-21T09:54:00.704881Z",
     "end_time": "2023-09-21T09:54:00.708311Z"
    }
   }
  },
  {
   "cell_type": "code",
   "execution_count": null,
   "outputs": [],
   "source": [],
   "metadata": {
    "collapsed": false
   }
  }
 ],
 "metadata": {
  "kernelspec": {
   "display_name": "Python 3 (ipykernel)",
   "language": "python",
   "name": "python3"
  },
  "language_info": {
   "codemirror_mode": {
    "name": "ipython",
    "version": 3
   },
   "file_extension": ".py",
   "mimetype": "text/x-python",
   "name": "python",
   "nbconvert_exporter": "python",
   "pygments_lexer": "ipython3",
   "version": "3.8.11"
  }
 },
 "nbformat": 4,
 "nbformat_minor": 4
}
