{
 "cells": [
  {
   "cell_type": "markdown",
   "metadata": {},
   "source": [
    "# ``aws_arns`` Examples"
   ]
  },
  {
   "cell_type": "code",
   "execution_count": 1,
   "metadata": {
    "collapsed": false,
    "jupyter": {
     "outputs_hidden": false
    },
    "pycharm": {
     "is_executing": true,
     "name": "#%%\n"
    },
    "tags": []
   },
   "outputs": [],
   "source": [
    "from aws_arns import Arn\n",
    "from rich import print as rprint"
   ]
  },
  {
   "cell_type": "code",
   "execution_count": 2,
   "metadata": {
    "collapsed": false,
    "jupyter": {
     "outputs_hidden": false
    },
    "pycharm": {
     "name": "#%%\n"
    },
    "tags": []
   },
   "outputs": [
    {
     "data": {
      "text/html": [
       "<pre style=\"white-space:pre;overflow-x:auto;line-height:normal;font-family:Menlo,'DejaVu Sans Mono',consolas,'Courier New',monospace\"><span style=\"color: #800080; text-decoration-color: #800080; font-weight: bold\">Arn</span><span style=\"font-weight: bold\">(</span>\n",
       "    <span style=\"color: #808000; text-decoration-color: #808000\">partition</span>=<span style=\"color: #008000; text-decoration-color: #008000\">'aws'</span>,\n",
       "    <span style=\"color: #808000; text-decoration-color: #808000\">service</span>=<span style=\"color: #008000; text-decoration-color: #008000\">'iam'</span>,\n",
       "    <span style=\"color: #808000; text-decoration-color: #808000\">region</span>=<span style=\"color: #800080; text-decoration-color: #800080; font-style: italic\">None</span>,\n",
       "    <span style=\"color: #808000; text-decoration-color: #808000\">account_id</span>=<span style=\"color: #008000; text-decoration-color: #008000\">'111122223333'</span>,\n",
       "    <span style=\"color: #808000; text-decoration-color: #808000\">resource_id</span>=<span style=\"color: #008000; text-decoration-color: #008000\">'aws-service-role/redshift.amazonaws.com/AWSServiceRoleForRedshift'</span>,\n",
       "    <span style=\"color: #808000; text-decoration-color: #808000\">resource_type</span>=<span style=\"color: #008000; text-decoration-color: #008000\">'role'</span>,\n",
       "    <span style=\"color: #808000; text-decoration-color: #808000\">sep</span>=<span style=\"color: #008000; text-decoration-color: #008000\">'/'</span>\n",
       "<span style=\"font-weight: bold\">)</span>\n",
       "</pre>\n"
      ],
      "text/plain": [
       "\u001B[1;35mArn\u001B[0m\u001B[1m(\u001B[0m\n",
       "    \u001B[33mpartition\u001B[0m=\u001B[32m'aws'\u001B[0m,\n",
       "    \u001B[33mservice\u001B[0m=\u001B[32m'iam'\u001B[0m,\n",
       "    \u001B[33mregion\u001B[0m=\u001B[3;35mNone\u001B[0m,\n",
       "    \u001B[33maccount_id\u001B[0m=\u001B[32m'111122223333'\u001B[0m,\n",
       "    \u001B[33mresource_id\u001B[0m=\u001B[32m'aws-service-role/redshift.amazonaws.com/AWSServiceRoleForRedshift'\u001B[0m,\n",
       "    \u001B[33mresource_type\u001B[0m=\u001B[32m'role'\u001B[0m,\n",
       "    \u001B[33msep\u001B[0m=\u001B[32m'/'\u001B[0m\n",
       "\u001B[1m)\u001B[0m\n"
      ]
     },
     "metadata": {},
     "output_type": "display_data"
    }
   ],
   "source": [
    "arn = Arn.from_arn(\"arn:aws:iam::111122223333:role/aws-service-role/redshift.amazonaws.com/AWSServiceRoleForRedshift\")\n",
    "rprint(arn)"
   ]
  },
  {
   "cell_type": "code",
   "execution_count": 3,
   "metadata": {
    "collapsed": false,
    "jupyter": {
     "outputs_hidden": false
    },
    "pycharm": {
     "name": "#%%\n"
    },
    "tags": []
   },
   "outputs": [
    {
     "data": {
      "text/plain": [
       "'arn:aws:iam::111122223333:role/aws-service-role/redshift.amazonaws.com/AWSServiceRoleForRedshift'"
      ]
     },
     "execution_count": 3,
     "metadata": {},
     "output_type": "execute_result"
    }
   ],
   "source": [
    "arn.to_arn()"
   ]
  },
  {
   "cell_type": "code",
   "execution_count": 4,
   "metadata": {
    "collapsed": false,
    "jupyter": {
     "outputs_hidden": false
    },
    "pycharm": {
     "name": "#%%\n"
    }
   },
   "outputs": [
    {
     "data": {
      "text/html": [
       "<pre style=\"white-space:pre;overflow-x:auto;line-height:normal;font-family:Menlo,'DejaVu Sans Mono',consolas,'Courier New',monospace\"><span style=\"color: #800080; text-decoration-color: #800080; font-weight: bold\">Arn</span><span style=\"font-weight: bold\">(</span>\n",
       "    <span style=\"color: #808000; text-decoration-color: #808000\">partition</span>=<span style=\"color: #008000; text-decoration-color: #008000\">'aws'</span>,\n",
       "    <span style=\"color: #808000; text-decoration-color: #808000\">service</span>=<span style=\"color: #008000; text-decoration-color: #008000\">'s3'</span>,\n",
       "    <span style=\"color: #808000; text-decoration-color: #808000\">region</span>=<span style=\"color: #800080; text-decoration-color: #800080; font-style: italic\">None</span>,\n",
       "    <span style=\"color: #808000; text-decoration-color: #808000\">account_id</span>=<span style=\"color: #800080; text-decoration-color: #800080; font-style: italic\">None</span>,\n",
       "    <span style=\"color: #808000; text-decoration-color: #808000\">resource_id</span>=<span style=\"color: #008000; text-decoration-color: #008000\">'cloudformation/upload/10f3db7bcfa62c69e5a71fef595fac84.json'</span>,\n",
       "    <span style=\"color: #808000; text-decoration-color: #808000\">resource_type</span>=<span style=\"color: #008000; text-decoration-color: #008000\">'my-bucket'</span>,\n",
       "    <span style=\"color: #808000; text-decoration-color: #808000\">sep</span>=<span style=\"color: #008000; text-decoration-color: #008000\">'/'</span>\n",
       "<span style=\"font-weight: bold\">)</span>\n",
       "</pre>\n"
      ],
      "text/plain": [
       "\u001B[1;35mArn\u001B[0m\u001B[1m(\u001B[0m\n",
       "    \u001B[33mpartition\u001B[0m=\u001B[32m'aws'\u001B[0m,\n",
       "    \u001B[33mservice\u001B[0m=\u001B[32m's3'\u001B[0m,\n",
       "    \u001B[33mregion\u001B[0m=\u001B[3;35mNone\u001B[0m,\n",
       "    \u001B[33maccount_id\u001B[0m=\u001B[3;35mNone\u001B[0m,\n",
       "    \u001B[33mresource_id\u001B[0m=\u001B[32m'cloudformation/upload/10f3db7bcfa62c69e5a71fef595fac84.json'\u001B[0m,\n",
       "    \u001B[33mresource_type\u001B[0m=\u001B[32m'my-bucket'\u001B[0m,\n",
       "    \u001B[33msep\u001B[0m=\u001B[32m'/'\u001B[0m\n",
       "\u001B[1m)\u001B[0m\n"
      ]
     },
     "metadata": {},
     "output_type": "display_data"
    }
   ],
   "source": [
    "arn = Arn.from_arn(\"arn:aws:s3:::my-bucket/cloudformation/upload/10f3db7bcfa62c69e5a71fef595fac84.json\")\n",
    "rprint(arn)"
   ]
  },
  {
   "cell_type": "code",
   "execution_count": 5,
   "metadata": {
    "tags": []
   },
   "outputs": [
    {
     "data": {
      "text/plain": [
       "'arn:aws:s3:::my-bucket/cloudformation/upload/10f3db7bcfa62c69e5a71fef595fac84.json'"
      ]
     },
     "execution_count": 5,
     "metadata": {},
     "output_type": "execute_result"
    }
   ],
   "source": [
    "arn.to_arn()"
   ]
  },
  {
   "cell_type": "code",
   "execution_count": null,
   "metadata": {},
   "outputs": [],
   "source": []
  }
 ],
 "metadata": {
  "kernelspec": {
   "display_name": "Python 3 (ipykernel)",
   "language": "python",
   "name": "python3"
  },
  "language_info": {
   "codemirror_mode": {
    "name": "ipython",
    "version": 3
   },
   "file_extension": ".py",
   "mimetype": "text/x-python",
   "name": "python",
   "nbconvert_exporter": "python",
   "pygments_lexer": "ipython3",
   "version": "3.8.11"
  }
 },
 "nbformat": 4,
 "nbformat_minor": 4
}